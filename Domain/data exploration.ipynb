{
 "cells": [
  {
   "cell_type": "code",
   "id": "initial_id",
   "metadata": {
    "collapsed": true,
    "ExecuteTime": {
     "end_time": "2024-12-23T13:25:03.320222Z",
     "start_time": "2024-12-23T13:25:03.267977Z"
    }
   },
   "source": [
    "import pandas as pd\n",
    "\n",
    "# Importing data\n",
    "df_amazon = pd.read_csv('../Data/sentiment labelled sentences/amazon_cells_labelled.txt', sep='\\t', header=None)\n",
    "\n",
    "# IMDB breaks on simple \\t separator. Handled manually.\n",
    "imdb_data = []\n",
    "with open('../Data/sentiment labelled sentences/imdb_labelled.txt', 'r', encoding='utf-8') as file:\n",
    "    for line in file:\n",
    "        # Split each line on the tab character\n",
    "        parts = line.strip().split('\\t')\n",
    "        if len(parts) == 2:  # Ensure the line has exactly two parts\n",
    "            imdb_data.append(parts)\n",
    "\n",
    "# Convert the processed data into a DataFrame\n",
    "df_imdb = pd.DataFrame(imdb_data)\n",
    "df_yelp = pd.read_csv('../Data/sentiment labelled sentences/yelp_labelled.txt', sep='\\t', header=None)\n",
    "df = pd.concat([df_yelp, df_imdb, df_amazon], ignore_index=True)\n",
    "df.columns = ['Review', 'Score']\n",
    "print(df)"
   ],
   "outputs": [
    {
     "name": "stdout",
     "output_type": "stream",
     "text": [
      "                                                 Review Score\n",
      "0                              Wow... Loved this place.     1\n",
      "1                                    Crust is not good.     0\n",
      "2             Not tasty and the texture was just nasty.     0\n",
      "3     Stopped by during the late May bank holiday of...     1\n",
      "4     The selection on the menu was great and so wer...     1\n",
      "...                                                 ...   ...\n",
      "2995  The screen does get smudged easily because it ...     0\n",
      "2996  What a piece of junk.. I lose more calls on th...     0\n",
      "2997                       Item Does Not Match Picture.     0\n",
      "2998  The only thing that disappoint me is the infra...     0\n",
      "2999  You can not answer calls with the unit, never ...     0\n",
      "\n",
      "[3000 rows x 2 columns]\n"
     ]
    }
   ],
   "execution_count": 4
  },
  {
   "metadata": {},
   "cell_type": "code",
   "outputs": [],
   "execution_count": null,
   "source": "# Data exploration\n",
   "id": "ef02b5a076df63ee"
  }
 ],
 "metadata": {
  "kernelspec": {
   "display_name": "Python 3",
   "language": "python",
   "name": "python3"
  },
  "language_info": {
   "codemirror_mode": {
    "name": "ipython",
    "version": 2
   },
   "file_extension": ".py",
   "mimetype": "text/x-python",
   "name": "python",
   "nbconvert_exporter": "python",
   "pygments_lexer": "ipython2",
   "version": "2.7.6"
  }
 },
 "nbformat": 4,
 "nbformat_minor": 5
}
